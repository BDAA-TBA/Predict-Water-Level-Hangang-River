{
  "nbformat": 4,
  "nbformat_minor": 0,
  "metadata": {
    "colab": {
      "name": "Time2Vec_윤현서_220815.ipynb",
      "provenance": [],
      "collapsed_sections": [],
      "toc_visible": true
    },
    "kernelspec": {
      "name": "python3",
      "display_name": "Python 3"
    },
    "language_info": {
      "name": "python"
    },
    "gpuClass": "standard"
  },
  "cells": [
    {
      "cell_type": "markdown",
      "source": [
        "## 1. 환경설정"
      ],
      "metadata": {
        "id": "r8nmFp9OBFP1"
      }
    },
    {
      "cell_type": "code",
      "source": [
        "import numpy as np\n",
        "import pandas as pd   \n",
        "import matplotlib.pyplot as plt\n",
        "import random\n",
        "import os\n",
        "\n",
        "from sklearn.metrics import mean_absolute_error\n",
        "\n",
        "import tensorflow as tf\n",
        "from tensorflow.keras.layers import *\n",
        "from tensorflow.keras.models import *\n",
        "from tensorflow.keras.callbacks import * \n",
        "from tensorflow.keras.optimizers import *\n",
        "from tensorflow.keras import backend as K\n",
        "\n",
        "# from kerashypetune import KerasGridSearch"
      ],
      "metadata": {
        "id": "HzNO6T1klZix"
      },
      "execution_count": 1,
      "outputs": []
    },
    {
      "cell_type": "code",
      "execution_count": 2,
      "metadata": {
        "id": "qf7IM_fEQx4i"
      },
      "outputs": [],
      "source": [
        "import os\n",
        "\n",
        "import numpy as np\n",
        "import pandas as pd\n",
        "\n",
        "import seaborn as sns \n",
        "import matplotlib.pyplot as plt\n",
        "\n",
        "plt.rcParams['figure.figsize']=(10,10)\n",
        "plt.rcParams['font.family']='AppleGothic'\n",
        "\n",
        "import warnings\n",
        "warnings.filterwarnings(action='ignore')"
      ]
    },
    {
      "cell_type": "code",
      "source": [
        "def read_csv_by_dir(path, index_col=None):\n",
        "    df_raw = pd.DataFrame()\n",
        "    for files in os.listdir(path):\n",
        "        if files.endswith('.csv'):\n",
        "            df = pd.read_csv('/'.join([path,files]),\n",
        "                            index_col=index_col)\n",
        "        df_raw = pd.concat((df_raw,df),axis=0)\n",
        "    return df_raw"
      ],
      "metadata": {
        "id": "gqxzmBkQQ-OS"
      },
      "execution_count": 3,
      "outputs": []
    },
    {
      "cell_type": "markdown",
      "source": [
        "## 2. 데이터전처리"
      ],
      "metadata": {
        "id": "cSMXITY5BJDp"
      }
    },
    {
      "cell_type": "code",
      "source": [
        "from google.colab import drive\n",
        "drive.mount('/content/drive') # 구글 드라이브를 사용하는 경우\n",
        "\n",
        "path = '/content/drive/MyDrive/dacon/water_level/data/'\n",
        "\n",
        "_df_rf_raw = read_csv_by_dir('/'.join([path,'rf_data']),\n",
        "                            index_col=0)\n",
        "\n",
        "_df_water_raw = read_csv_by_dir('/'.join([path,'water_data']),\n",
        "                               index_col=0)\n",
        "\n",
        "_submission_raw = pd.read_csv('/'.join([path,'sample_submission.csv']),\n",
        "                             index_col=0)"
      ],
      "metadata": {
        "colab": {
          "base_uri": "https://localhost:8080/"
        },
        "id": "9WN_ZmVhRBCq",
        "outputId": "fb590dc5-9c59-4524-d552-9cd56108240b"
      },
      "execution_count": 4,
      "outputs": [
        {
          "output_type": "stream",
          "name": "stdout",
          "text": [
            "Mounted at /content/drive\n"
          ]
        }
      ]
    },
    {
      "cell_type": "code",
      "source": [
        "# raw_data 보존하기\n",
        "df_rf=_df_rf_raw.copy()\n",
        "df_rf.name = \"rain_data\"\n",
        "\n",
        "df_water=_df_water_raw.copy()\n",
        "df_water.name = \"water_data\"\n",
        "\n",
        "submission=_submission_raw.copy()\n",
        "submission.name = \"submission\""
      ],
      "metadata": {
        "id": "2_edncByRO0L"
      },
      "execution_count": 5,
      "outputs": []
    },
    {
      "cell_type": "code",
      "source": [
        "def index_to_datetime(df,format):\n",
        "    df.index = pd.to_datetime(df.index,\n",
        "                              format=format)\n",
        "    return df"
      ],
      "metadata": {
        "id": "cnf7BAxERkCB"
      },
      "execution_count": 6,
      "outputs": []
    },
    {
      "cell_type": "code",
      "source": [
        "df_rf=index_to_datetime(df=df_rf,format='%Y-%m-%d %H:%M')\n",
        "df_water=index_to_datetime(df=df_water,format='%Y-%m-%d %H:%M')\n",
        "submission=index_to_datetime(df=submission,format='%Y-%m-%d %H:%M')"
      ],
      "metadata": {
        "id": "FP9DXEGzRljb"
      },
      "execution_count": 7,
      "outputs": []
    },
    {
      "cell_type": "code",
      "source": [
        "df_rf.sort_index(inplace=True)\n",
        "df_water.sort_index(inplace=True)\n",
        "submission.sort_index(inplace=True)"
      ],
      "metadata": {
        "id": "C_fKPS-hRnGA"
      },
      "execution_count": 8,
      "outputs": []
    },
    {
      "cell_type": "code",
      "source": [
        "# 데이터 시간대 확인하기\n",
        "def check_datetime(df):\n",
        "    print(df.name)\n",
        "    print(df.select_dtypes('datetime64[ns]').head(1).index[0])\n",
        "    print(df.select_dtypes('datetime64[ns]').tail(1).index[0])\n",
        "    return None\n",
        "\n",
        "check_datetime(df_rf)\n",
        "check_datetime(df_water)\n",
        "check_datetime(submission)"
      ],
      "metadata": {
        "colab": {
          "base_uri": "https://localhost:8080/"
        },
        "id": "aQCwcib3Rogf",
        "outputId": "2cb2cc89-ae41-4fc8-92a8-6f23c3a1eb0d"
      },
      "execution_count": 9,
      "outputs": [
        {
          "output_type": "stream",
          "name": "stdout",
          "text": [
            "rain_data\n",
            "2012-05-01 00:00:00\n",
            "2022-07-18 23:50:00\n",
            "water_data\n",
            "2012-05-01 00:00:00\n",
            "2022-07-18 23:50:00\n",
            "submission\n",
            "2022-06-01 00:00:00\n",
            "2022-07-18 23:50:00\n"
          ]
        }
      ]
    },
    {
      "cell_type": "code",
      "source": [
        "data = pd.concat((df_rf,df_water),axis=1)"
      ],
      "metadata": {
        "id": "Fa25omKDelW5"
      },
      "execution_count": 10,
      "outputs": []
    },
    {
      "cell_type": "code",
      "source": [
        "data.shape"
      ],
      "metadata": {
        "colab": {
          "base_uri": "https://localhost:8080/"
        },
        "id": "yAsaxpROjf9R",
        "outputId": "da03f847-e8e0-45af-8fa6-b022a3e38c6d"
      },
      "execution_count": 11,
      "outputs": [
        {
          "output_type": "execute_result",
          "data": {
            "text/plain": [
              "(276336, 17)"
            ]
          },
          "metadata": {},
          "execution_count": 11
        }
      ]
    },
    {
      "cell_type": "code",
      "source": [
        "# data와 target 하나 밀어주기 (과거데이터를 사용해야 함으로)\n",
        "_data = data.reset_index(drop=True)\n",
        "\n",
        "_data.index += 1\n",
        "tot=_data.sort_index()\n",
        "tot=tot.iloc[1:-1]"
      ],
      "metadata": {
        "id": "2hEtjU3CjB9Q"
      },
      "execution_count": 12,
      "outputs": []
    },
    {
      "cell_type": "code",
      "source": [
        "tot.isna().sum()"
      ],
      "metadata": {
        "colab": {
          "base_uri": "https://localhost:8080/"
        },
        "id": "jaldwtAbe2CG",
        "outputId": "4e44f90a-6749-4f8f-c79b-0ab93cd260f5"
      },
      "execution_count": 13,
      "outputs": [
        {
          "output_type": "execute_result",
          "data": {
            "text/plain": [
              "rf_10184100         0\n",
              "rf_10184110         0\n",
              "rf_10184140         0\n",
              "swl               743\n",
              "inf               743\n",
              "sfw               743\n",
              "ecpc              743\n",
              "tototf            743\n",
              "tide_level       4927\n",
              "wl_1018662         59\n",
              "fw_1018662      16380\n",
              "wl_1018680         59\n",
              "fw_1018680     196848\n",
              "wl_1018683         59\n",
              "fw_1018683       1279\n",
              "wl_1019630         59\n",
              "fw_1019630         59\n",
              "dtype: int64"
            ]
          },
          "metadata": {},
          "execution_count": 13
        }
      ]
    },
    {
      "cell_type": "code",
      "source": [
        "pred_col = submission.columns\n",
        "pred_col"
      ],
      "metadata": {
        "colab": {
          "base_uri": "https://localhost:8080/"
        },
        "id": "veOJEd9_fGbZ",
        "outputId": "1b6fad61-c86e-45cf-ad3f-42aa638760f2"
      },
      "execution_count": 14,
      "outputs": [
        {
          "output_type": "execute_result",
          "data": {
            "text/plain": [
              "Index(['wl_1018662', 'wl_1018680', 'wl_1018683', 'wl_1019630'], dtype='object')"
            ]
          },
          "metadata": {},
          "execution_count": 14
        }
      ]
    },
    {
      "cell_type": "code",
      "source": [
        "tot.fillna(tot.mean(),inplace=True)"
      ],
      "metadata": {
        "id": "hx3mbylDRv08"
      },
      "execution_count": 15,
      "outputs": []
    },
    {
      "cell_type": "code",
      "source": [
        "train_data=tot.iloc[:-len(submission),:]\n",
        "test_data=tot.iloc[-len(submission):,:]"
      ],
      "metadata": {
        "id": "24CSjvLwftYJ"
      },
      "execution_count": 16,
      "outputs": []
    },
    {
      "cell_type": "code",
      "source": [
        "test_data.isna().sum()"
      ],
      "metadata": {
        "colab": {
          "base_uri": "https://localhost:8080/"
        },
        "id": "Fc2Mx7zKkKFp",
        "outputId": "227d0622-bbee-4392-c148-6d26cb82aac6"
      },
      "execution_count": 17,
      "outputs": [
        {
          "output_type": "execute_result",
          "data": {
            "text/plain": [
              "rf_10184100    0\n",
              "rf_10184110    0\n",
              "rf_10184140    0\n",
              "swl            0\n",
              "inf            0\n",
              "sfw            0\n",
              "ecpc           0\n",
              "tototf         0\n",
              "tide_level     0\n",
              "wl_1018662     0\n",
              "fw_1018662     0\n",
              "wl_1018680     0\n",
              "fw_1018680     0\n",
              "wl_1018683     0\n",
              "fw_1018683     0\n",
              "wl_1019630     0\n",
              "fw_1019630     0\n",
              "dtype: int64"
            ]
          },
          "metadata": {},
          "execution_count": 17
        }
      ]
    },
    {
      "cell_type": "code",
      "source": [
        "test_data.shape"
      ],
      "metadata": {
        "colab": {
          "base_uri": "https://localhost:8080/"
        },
        "id": "X_KRLe95kYPz",
        "outputId": "9d552fe0-6e67-4598-eca6-250acc412cdc"
      },
      "execution_count": 18,
      "outputs": [
        {
          "output_type": "execute_result",
          "data": {
            "text/plain": [
              "(6912, 17)"
            ]
          },
          "metadata": {},
          "execution_count": 18
        }
      ]
    },
    {
      "cell_type": "code",
      "source": [
        "submission.shape"
      ],
      "metadata": {
        "colab": {
          "base_uri": "https://localhost:8080/"
        },
        "id": "MNFrEoQ0kTyY",
        "outputId": "d547c1b1-0f8a-4a09-fba2-77a143bc8851"
      },
      "execution_count": 19,
      "outputs": [
        {
          "output_type": "execute_result",
          "data": {
            "text/plain": [
              "(6912, 4)"
            ]
          },
          "metadata": {},
          "execution_count": 19
        }
      ]
    },
    {
      "cell_type": "code",
      "source": [
        ""
      ],
      "metadata": {
        "id": "TXnQ_-4-BCj-"
      },
      "execution_count": null,
      "outputs": []
    },
    {
      "cell_type": "markdown",
      "source": [
        "## 3. 모델링"
      ],
      "metadata": {
        "id": "BpgBa6kKBXit"
      }
    },
    {
      "cell_type": "markdown",
      "source": [
        "### 3-1. Time2Vec"
      ],
      "metadata": {
        "id": "ly2k5YVPBZTe"
      }
    },
    {
      "cell_type": "code",
      "source": [
        "### DEFINE T2V LAYER ###\n",
        "\n",
        "class T2V(Layer):\n",
        "    \n",
        "    def __init__(self, output_dim=None, **kwargs):\n",
        "        self.output_dim = output_dim\n",
        "        super(T2V, self).__init__(**kwargs)\n",
        "        \n",
        "    def build(self, input_shape):\n",
        "\n",
        "        self.W = self.add_weight(name='W',\n",
        "                                shape=(input_shape[-1], self.output_dim),\n",
        "                                initializer='uniform',\n",
        "                                trainable=True)\n",
        "\n",
        "        self.P = self.add_weight(name='P',\n",
        "                                shape=(input_shape[1], self.output_dim),\n",
        "                                initializer='uniform',\n",
        "                                trainable=True)\n",
        "\n",
        "        self.w = self.add_weight(name='w',\n",
        "                                shape=(input_shape[1], 1),\n",
        "                                initializer='uniform',\n",
        "                                trainable=True)\n",
        "\n",
        "        self.p = self.add_weight(name='p',\n",
        "                                shape=(input_shape[1], 1),\n",
        "                                initializer='uniform',\n",
        "                                trainable=True)\n",
        "\n",
        "        super(T2V, self).build(input_shape)\n",
        "        \n",
        "    def call(self, x):\n",
        "        \n",
        "        original = self.w * x + self.p\n",
        "        sin_trans = K.sin(K.dot(x, self.W) + self.P)\n",
        "        \n",
        "        return K.concatenate([sin_trans, original], -1)"
      ],
      "metadata": {
        "id": "B_AjpCyflMQ5"
      },
      "execution_count": 20,
      "outputs": []
    },
    {
      "cell_type": "code",
      "source": [
        "### CREATE GENERATOR FOR LSTM AND T2V ###\n",
        "\n",
        "sequence_length = 24 # orig: 24 .  note, 24*7 = 168\n",
        "\n",
        "def gen_sequence(id_df, seq_length, seq_cols):\n",
        "    \n",
        "    data_matrix = id_df[seq_cols].values\n",
        "    num_elements = data_matrix.shape[0]\n",
        "\n",
        "    for start, stop in zip(range(0, num_elements-seq_length), range(seq_length, num_elements)):\n",
        "        yield data_matrix[start:stop, :]\n",
        "\n",
        "def gen_labels(id_df, seq_length, label):\n",
        "    \n",
        "    data_matrix = id_df[label].values\n",
        "    num_elements = data_matrix.shape[0]\n",
        "    \n",
        "    return data_matrix[seq_length:num_elements, :]"
      ],
      "metadata": {
        "id": "QI4GaBK9BdGj"
      },
      "execution_count": 21,
      "outputs": []
    },
    {
      "cell_type": "code",
      "source": [
        "### DEFINE MODEL STRUCTURES ###\n",
        "\n",
        "def set_seed_TF2(seed):\n",
        "    \n",
        "    tf.random.set_seed(seed)\n",
        "    os.environ['PYTHONHASHSEED'] = str(seed)\n",
        "    np.random.seed(seed)\n",
        "    random.seed(seed)\n",
        "    \n",
        "\n",
        "def T2V_NN(param, dim):\n",
        "    \n",
        "    inp = Input(shape=(dim,1))\n",
        "    x = T2V(param['t2v_dim'])(inp)\n",
        "    x = LSTM(param['unit'], activation=param['act'])(x)\n",
        "    x = Dense(1)(x)\n",
        "    \n",
        "    m = Model(inp, x)\n",
        "    m.compile(loss='mse', optimizer=Adam(lr=param['lr']))\n",
        "    \n",
        "    return m\n",
        "\n",
        "\n",
        "def NN(param, dim):\n",
        "    \n",
        "    inp = Input(shape=(dim,1))\n",
        "    x = LSTM(param['unit'], activation=param['act'])(inp)\n",
        "    x = Dense(1)(x)\n",
        "    \n",
        "    m = Model(inp, x)\n",
        "    m.compile(loss='mse', optimizer=Adam(lr=param['lr']))\n",
        "    \n",
        "    return m"
      ],
      "metadata": {
        "id": "jjUfylF3Bc_T"
      },
      "execution_count": 50,
      "outputs": []
    },
    {
      "cell_type": "code",
      "source": [
        "### PREPARE DATA TO FEED MODELS ###\n",
        "\n",
        "X1, Y1 = [], []\n",
        "for sequence in gen_sequence(train_data.drop(pred_col.drop('wl_1018662'), axis=1), sequence_length, ['wl_1018662']):\n",
        "    X1.append(sequence)\n",
        "    \n",
        "for sequence in gen_labels(train_data.drop(pred_col.drop('wl_1018662'), axis=1), sequence_length, ['wl_1018662']):\n",
        "    Y1.append(sequence)\n",
        "    \n",
        "X1 = np.asarray(X1)\n",
        "Y1 = np.asarray(Y1)\n",
        "\n",
        "### TRAIN TEST SPLIT ###\n",
        "\n",
        "train_dim = int(0.7*len(train_data))\n",
        "X_train1, X_test1 = X1[:train_dim], X1[train_dim:]\n",
        "y_train1, y_test1 = Y1[:train_dim], Y1[train_dim:]\n",
        "\n",
        "print(X_train1.shape, y_train1.shape)\n",
        "print(X_test1.shape, y_test1.shape)"
      ],
      "metadata": {
        "colab": {
          "base_uri": "https://localhost:8080/"
        },
        "id": "B9HQqr6HBc3S",
        "outputId": "2ee2553d-1e54-419b-e08d-e9686c24b6ef"
      },
      "execution_count": 51,
      "outputs": [
        {
          "output_type": "stream",
          "name": "stdout",
          "text": [
            "(188595, 24, 1) (188595, 1)\n",
            "(80803, 24, 1) (80803, 1)\n"
          ]
        }
      ]
    },
    {
      "cell_type": "markdown",
      "source": [
        "### 3-2. 하이퍼파리미터 설정"
      ],
      "metadata": {
        "id": "qhkfll7sLg_Q"
      }
    },
    {
      "cell_type": "code",
      "source": [
        "### DEFINE PARAM GRID FOR HYPERPARM OPTIMIZATION ###\n",
        "\n",
        "param_grid = {\n",
        "    'unit': [64,32],\n",
        "    't2v_dim': [128,64,16],\n",
        "    'lr': [1e-2,1e-3], \n",
        "    'act': ['relu','relu'], \n",
        "    'epochs': 100, # 200,\n",
        "    'batch_size': [128,512,1024]\n",
        "}\n",
        "\n",
        "\n",
        "base_param = {\n",
        "    'unit': 64,\n",
        "    't2v_dim': 64,\n",
        "    'lr': 2e-3, \n",
        "    'act': 'relu', \n",
        "    'epochs': 100, # 200,\n",
        "    'batch_size': 256\n",
        "}"
      ],
      "metadata": {
        "id": "V6XJhQzqB8RH"
      },
      "execution_count": 52,
      "outputs": []
    },
    {
      "cell_type": "markdown",
      "source": [
        "### 3-3 모델 구성"
      ],
      "metadata": {
        "id": "vXHxJA-4LlR5"
      }
    },
    {
      "cell_type": "code",
      "source": [
        "def model_run(model, x_train, y_train, checkpoint_path, optimizer=\"adam\"):\n",
        "  epochs = 500\n",
        "  batch_size = 128\n",
        "\n",
        "  callbacks = [\n",
        "    tf.keras.callbacks.ModelCheckpoint(\n",
        "        checkpoint_path, save_weights_only=True, verbose=1, save_best_only=True\n",
        "    ),\n",
        "    tf.keras.callbacks.ReduceLROnPlateau(\n",
        "        monitor=\"val_loss\", factor=0.5, patience=10, min_lr=0.0001, mode='min'\n",
        "    ),\n",
        "    tf.keras.callbacks.EarlyStopping(monitor=\"val_loss\", patience=30, verbose=1, mode='auto', restore_best_weights=True),\n",
        "  ]\n",
        "  model.compile(\n",
        "    optimizer=optimizer,\n",
        "    loss=\"mean_squared_error\",\n",
        "    metrics=[\"accuracy\"],\n",
        "  )\n",
        "  history = model.fit(\n",
        "    x_train,\n",
        "    y_train,\n",
        "    batch_size=batch_size,\n",
        "    epochs=epochs,\n",
        "    callbacks=callbacks,\n",
        "    validation_split=0.2,\n",
        "    verbose=1, shuffle=False\n",
        "  )"
      ],
      "metadata": {
        "id": "5B_jiqUAFQ0v"
      },
      "execution_count": 63,
      "outputs": []
    },
    {
      "cell_type": "code",
      "source": [
        "model_dir = \"/content/drive/MyDrive/dacon/water_level/time2vec_model/\"\n",
        "if not os.path.exists(model_dir):\n",
        "    os.mkdir(model_dir)"
      ],
      "metadata": {
        "id": "l6wllwZEFtcg"
      },
      "execution_count": 64,
      "outputs": []
    },
    {
      "cell_type": "code",
      "source": [
        "### FIT T2V + LSTM ###\n",
        "### this is muc hslower if using CPU and not GPU\n",
        "# es = EarlyStopping(patience=3, verbose=0, min_delta=0.0005, monitor='val_loss', mode='auto', restore_best_weights=True)\n",
        "## new : skip search, default model\n",
        "\n",
        "# 체크포인트 파일 저장 경로\n",
        "checkpoint_path1 = model_dir+\"checkpoints_model_time2vec1.ckpt\"\n",
        "\n",
        "model1 = T2V_NN(param=base_param, dim=sequence_length)\n",
        "\n",
        "model_run(model1, X_train1, y_train1, checkpoint_path1)\n",
        "# model.fit(X_train, y_train, validation_split=0.2, callbacks=[es], shuffle=False)\n",
        "\n",
        "# pred_t2v = kgs_t2v.best_model.predict(X_test).ravel()\n",
        "pred_t2v = model1.predict(X_test1).ravel()\n",
        "print(\"MAE\")\n",
        "mean_absolute_error(y_test1.ravel(), pred_t2v)"
      ],
      "metadata": {
        "colab": {
          "base_uri": "https://localhost:8080/"
        },
        "id": "2k2FLLyPCL-3",
        "outputId": "38b02620-5d52-49a1-a027-4fb5f23f2449"
      },
      "execution_count": null,
      "outputs": [
        {
          "output_type": "stream",
          "name": "stdout",
          "text": [
            "Epoch 1/500\n",
            "1179/1179 [==============================] - ETA: 0s - loss: 1886.8206 - accuracy: 0.0000e+00\n",
            "Epoch 1: val_loss improved from inf to 186.85881, saving model to /content/drive/MyDrive/dacon/water_level/time2vec_model/checkpoints_model_time2vec1.ckpt\n",
            "1179/1179 [==============================] - 58s 47ms/step - loss: 1886.8206 - accuracy: 0.0000e+00 - val_loss: 186.8588 - val_accuracy: 0.0000e+00 - lr: 0.0010\n",
            "Epoch 2/500\n",
            "1179/1179 [==============================] - ETA: 0s - loss: 233.4623 - accuracy: 0.0000e+00\n",
            "Epoch 2: val_loss did not improve from 186.85881\n",
            "1179/1179 [==============================] - 72s 61ms/step - loss: 233.4623 - accuracy: 0.0000e+00 - val_loss: 839.2638 - val_accuracy: 0.0000e+00 - lr: 0.0010\n",
            "Epoch 3/500\n",
            "1179/1179 [==============================] - ETA: 0s - loss: 498.8466 - accuracy: 0.0000e+00\n",
            "Epoch 3: val_loss did not improve from 186.85881\n",
            "1179/1179 [==============================] - 74s 63ms/step - loss: 498.8466 - accuracy: 0.0000e+00 - val_loss: 465.4787 - val_accuracy: 0.0000e+00 - lr: 0.0010\n",
            "Epoch 4/500\n",
            "1178/1179 [============================>.] - ETA: 0s - loss: 168.2112 - accuracy: 0.0000e+00\n",
            "Epoch 4: val_loss improved from 186.85881 to 138.12991, saving model to /content/drive/MyDrive/dacon/water_level/time2vec_model/checkpoints_model_time2vec1.ckpt\n",
            "1179/1179 [==============================] - 55s 47ms/step - loss: 168.1975 - accuracy: 0.0000e+00 - val_loss: 138.1299 - val_accuracy: 0.0000e+00 - lr: 0.0010\n",
            "Epoch 5/500\n",
            "1179/1179 [==============================] - ETA: 0s - loss: 192.3856 - accuracy: 0.0000e+00\n",
            "Epoch 5: val_loss did not improve from 138.12991\n",
            "1179/1179 [==============================] - 76s 64ms/step - loss: 192.3856 - accuracy: 0.0000e+00 - val_loss: 229.9165 - val_accuracy: 0.0000e+00 - lr: 0.0010\n",
            "Epoch 6/500\n",
            "1179/1179 [==============================] - ETA: 0s - loss: 197.0594 - accuracy: 0.0000e+00\n",
            "Epoch 6: val_loss did not improve from 138.12991\n",
            "1179/1179 [==============================] - 60s 51ms/step - loss: 197.0594 - accuracy: 0.0000e+00 - val_loss: 178.5643 - val_accuracy: 0.0000e+00 - lr: 0.0010\n",
            "Epoch 7/500\n",
            "1179/1179 [==============================] - ETA: 0s - loss: 159.4566 - accuracy: 0.0000e+00\n",
            "Epoch 7: val_loss did not improve from 138.12991\n",
            "1179/1179 [==============================] - 52s 44ms/step - loss: 159.4566 - accuracy: 0.0000e+00 - val_loss: 228.1215 - val_accuracy: 0.0000e+00 - lr: 0.0010\n",
            "Epoch 8/500\n",
            "1179/1179 [==============================] - ETA: 0s - loss: 212.3702 - accuracy: 0.0000e+00\n",
            "Epoch 8: val_loss did not improve from 138.12991\n",
            "1179/1179 [==============================] - 46s 39ms/step - loss: 212.3702 - accuracy: 0.0000e+00 - val_loss: 167.2009 - val_accuracy: 0.0000e+00 - lr: 0.0010\n",
            "Epoch 9/500\n",
            "1178/1179 [============================>.] - ETA: 0s - loss: 109.7638 - accuracy: 0.0000e+00\n",
            "Epoch 9: val_loss improved from 138.12991 to 49.37746, saving model to /content/drive/MyDrive/dacon/water_level/time2vec_model/checkpoints_model_time2vec1.ckpt\n",
            "1179/1179 [==============================] - 60s 51ms/step - loss: 109.7230 - accuracy: 0.0000e+00 - val_loss: 49.3775 - val_accuracy: 0.0000e+00 - lr: 0.0010\n",
            "Epoch 10/500\n",
            "1178/1179 [============================>.] - ETA: 0s - loss: 57.3038 - accuracy: 0.0000e+00\n",
            "Epoch 10: val_loss improved from 49.37746 to 39.47142, saving model to /content/drive/MyDrive/dacon/water_level/time2vec_model/checkpoints_model_time2vec1.ckpt\n",
            "1179/1179 [==============================] - 52s 44ms/step - loss: 57.2955 - accuracy: 0.0000e+00 - val_loss: 39.4714 - val_accuracy: 0.0000e+00 - lr: 0.0010\n",
            "Epoch 11/500\n",
            "1179/1179 [==============================] - ETA: 0s - loss: 50.4221 - accuracy: 0.0000e+00\n",
            "Epoch 11: val_loss did not improve from 39.47142\n",
            "1179/1179 [==============================] - 48s 40ms/step - loss: 50.4221 - accuracy: 0.0000e+00 - val_loss: 75.0001 - val_accuracy: 0.0000e+00 - lr: 0.0010\n",
            "Epoch 12/500\n",
            " 244/1179 [=====>........................] - ETA: 33s - loss: 42.7227 - accuracy: 0.0000e+00"
          ]
        }
      ]
    },
    {
      "cell_type": "code",
      "source": [
        "### PREPARE DATA TO FEED MODELS ###\n",
        "\n",
        "X2, Y2 = [], []\n",
        "for sequence in gen_sequence(train_data.drop(pred_col.drop('wl_1018680'), axis=1), sequence_length, ['wl_1018680']):\n",
        "    X2.append(sequence)\n",
        "    \n",
        "for sequence in gen_labels(train_data.drop(pred_col.drop('wl_1018680'), axis=1), sequence_length, ['wl_1018680']):\n",
        "    Y2.append(sequence)\n",
        "    \n",
        "X2 = np.asarray(X2)\n",
        "Y2 = np.asarray(Y2)\n",
        "\n",
        "### TRAIN TEST SPLIT ###\n",
        "\n",
        "train_dim = int(0.7*len(train_data))\n",
        "X_train2, X_test2 = X2[:train_dim], X2[train_dim:]\n",
        "y_train2, y_test2 = Y2[:train_dim], Y2[train_dim:]\n",
        "\n",
        "print(X_train2.shape, y_train2.shape)\n",
        "print(X_test2.shape, y_test2.shape)"
      ],
      "metadata": {
        "colab": {
          "base_uri": "https://localhost:8080/"
        },
        "id": "U51cZpkBDVsy",
        "outputId": "43d63a8f-9c7b-476c-dc95-511d7a285bf9"
      },
      "execution_count": 36,
      "outputs": [
        {
          "output_type": "execute_result",
          "data": {
            "text/plain": [
              "array([295.82318, 295.24393, 294.87955, ..., 290.53296, 286.84195,\n",
              "       284.04816], dtype=float32)"
            ]
          },
          "metadata": {},
          "execution_count": 36
        }
      ]
    },
    {
      "cell_type": "code",
      "source": [
        "### FIT T2V + LSTM ###\n",
        "### this is muc hslower if using CPU and not GPU\n",
        "# es = EarlyStopping(patience=3, verbose=0, min_delta=0.0005, monitor='val_loss', mode='auto', restore_best_weights=True)\n",
        "## new : skip search, default model\n",
        "\n",
        "# 체크포인트 파일 저장 경로\n",
        "checkpoint_path2 = model_dir+\"checkpoints_model_time2vec2.ckpt\"\n",
        "\n",
        "model2 = T2V_NN(param=base_param, dim=sequence_length)\n",
        "\n",
        "model_run(model2, X_train2, y_train2, checkpoint_path2)\n",
        "\n",
        "# pred_t2v = kgs_t2v.best_model.predict(X_test).ravel()\n",
        "pred_t2v2 = model2.predict(X_test2).ravel()\n",
        "print(\"MAE\")\n",
        "mean_absolute_error(y_test2.ravel(), pred_t2v2)"
      ],
      "metadata": {
        "id": "EMXd48McGPdL"
      },
      "execution_count": null,
      "outputs": []
    },
    {
      "cell_type": "code",
      "source": [
        "### PREPARE DATA TO FEED MODELS ###\n",
        "\n",
        "X3, Y3 = [], []\n",
        "for sequence in gen_sequence(train_data.drop(pred_col.drop('wl_1018683'), axis=1), sequence_length, ['wl_1018683']):\n",
        "    X3.append(sequence)\n",
        "    \n",
        "for sequence in gen_labels(train_data.drop(pred_col.drop('wl_1018683'), axis=1), sequence_length, ['wl_1018683']):\n",
        "    Y3.append(sequence)\n",
        "    \n",
        "X3 = np.asarray(X3)\n",
        "Y3 = np.asarray(Y3)\n",
        "\n",
        "### TRAIN TEST SPLIT ###\n",
        "\n",
        "train_dim = int(0.7*len(train_data))\n",
        "X_train3, X_test3 = X3[:train_dim], X3[train_dim:]\n",
        "y_train3, y_test3 = Y3[:train_dim], Y3[train_dim:]\n",
        "\n",
        "print(X_train3.shape, y_train3.shape)\n",
        "print(X_test3.shape, y_test3.shape)"
      ],
      "metadata": {
        "id": "b65GyIG4DVl8"
      },
      "execution_count": null,
      "outputs": []
    },
    {
      "cell_type": "code",
      "source": [
        "### FIT T2V + LSTM ###\n",
        "### this is muc hslower if using CPU and not GPU\n",
        "# es = EarlyStopping(patience=3, verbose=0, min_delta=0.0005, monitor='val_loss', mode='auto', restore_best_weights=True)\n",
        "## new : skip search, default model\n",
        "\n",
        "# 체크포인트 파일 저장 경로\n",
        "checkpoint_path3 = model_dir+\"checkpoints_model_time2vec3.ckpt\"\n",
        "\n",
        "model3 = T2V_NN(param=base_param, dim=sequence_length)\n",
        "\n",
        "model_run(model3, X_train3, y_train3, checkpoint_path3)\n",
        "\n",
        "# pred_t2v = kgs_t2v.best_model.predict(X_test).ravel()\n",
        "pred_t2v3 = model3.predict(X_test3).ravel()\n",
        "print(\"MAE\")\n",
        "mean_absolute_error(y_test3.ravel(), pred_t2v3)"
      ],
      "metadata": {
        "id": "pxVFFpGIDVe0"
      },
      "execution_count": null,
      "outputs": []
    },
    {
      "cell_type": "code",
      "source": [
        "### PREPARE DATA TO FEED MODELS ###\n",
        "\n",
        "X4, Y4 = [], []\n",
        "for sequence in gen_sequence(train_data.drop(pred_col.drop('wl_1019630'), axis=1), sequence_length, ['wl_1019630']):\n",
        "    X4.append(sequence)\n",
        "    \n",
        "for sequence in gen_labels(train_data.drop(pred_col.drop('wl_1019630'), axis=1), sequence_length, ['wl_1019630']):\n",
        "    Y4.append(sequence)\n",
        "    \n",
        "X4 = np.asarray(X4)\n",
        "Y4 = np.asarray(Y4)\n",
        "\n",
        "### TRAIN TEST SPLIT ###\n",
        "\n",
        "train_dim = int(0.7*len(train_data))\n",
        "X_train4, X_test4 = X4[:train_dim], X4[train_dim:]\n",
        "y_train4, y_test4 = Y4[:train_dim], Y4[train_dim:]\n",
        "\n",
        "print(X_train4.shape, y_train4.shape)\n",
        "print(X_test4.shape, y_test4.shape)"
      ],
      "metadata": {
        "id": "TJC2QKkAG5KX"
      },
      "execution_count": null,
      "outputs": []
    },
    {
      "cell_type": "code",
      "source": [
        "### FIT T2V + LSTM ###\n",
        "### this is muc hslower if using CPU and not GPU\n",
        "# es = EarlyStopping(patience=3, verbose=0, min_delta=0.0005, monitor='val_loss', mode='auto', restore_best_weights=True)\n",
        "## new : skip search, default model\n",
        "\n",
        "# 체크포인트 파일 저장 경로\n",
        "checkpoint_path4 = model_dir+\"checkpoints_model_time2vec4.ckpt\"\n",
        "\n",
        "model4 = T2V_NN(param=base_param, dim=sequence_length)\n",
        "\n",
        "model_run(model4, X_train4, y_train4, checkpoint_path4)\n",
        "\n",
        "# pred_t2v = kgs_t2v.best_model.predict(X_test).ravel()\n",
        "pred_t2v4 = model4.predict(X_test4).ravel()\n",
        "print(\"MAE\")\n",
        "mean_absolute_error(y_test4.ravel(), pred_t2v4)"
      ],
      "metadata": {
        "id": "wRuwR9fKGuTt"
      },
      "execution_count": null,
      "outputs": []
    },
    {
      "cell_type": "code",
      "source": [
        ""
      ],
      "metadata": {
        "id": "DVXyLijJDVXe"
      },
      "execution_count": null,
      "outputs": []
    },
    {
      "cell_type": "markdown",
      "source": [
        "## 4. 성능평가"
      ],
      "metadata": {
        "id": "f_x4RXJuDSG0"
      }
    },
    {
      "cell_type": "code",
      "source": [
        "plt.figure(figsize=(8,5))\n",
        "\n",
        "plt.plot(pred_t2v[:365], label='prediction')\n",
        "plt.plot(y_test1.ravel()[:365], label='true')\n",
        "plt.title('T2V plus LSTM'); plt.legend()"
      ],
      "metadata": {
        "colab": {
          "base_uri": "https://localhost:8080/",
          "height": 373
        },
        "id": "t2jYug1CCL8l",
        "outputId": "c3409a38-b4cd-479b-a666-677c869476fb"
      },
      "execution_count": 33,
      "outputs": [
        {
          "output_type": "execute_result",
          "data": {
            "text/plain": [
              "<matplotlib.legend.Legend at 0x7fa74862fa10>"
            ]
          },
          "metadata": {},
          "execution_count": 33
        },
        {
          "output_type": "stream",
          "name": "stderr",
          "text": [
            "WARNING:matplotlib.font_manager:findfont: Font family ['AppleGothic'] not found. Falling back to DejaVu Sans.\n",
            "WARNING:matplotlib.font_manager:findfont: Font family ['AppleGothic'] not found. Falling back to DejaVu Sans.\n"
          ]
        },
        {
          "output_type": "display_data",
          "data": {
            "text/plain": [
              "<Figure size 576x360 with 1 Axes>"
            ],
            "image/png": "[encoded data removed]"
          },
          "metadata": {
            "needs_background": "light"
          }
        }
      ]
    },
    {
      "cell_type": "code",
      "source": [
        "y_test1.ravel()"
      ],
      "metadata": {
        "colab": {
          "base_uri": "https://localhost:8080/"
        },
        "id": "xDRMINHaCL1F",
        "outputId": "18f2fec1-4db7-4718-f967-d0db1da04dd4"
      },
      "execution_count": 35,
      "outputs": [
        {
          "output_type": "execute_result",
          "data": {
            "text/plain": [
              "array([289.7, 289.7, 289.7, ..., 279.7, 278.7, 277.7])"
            ]
          },
          "metadata": {},
          "execution_count": 35
        }
      ]
    },
    {
      "cell_type": "code",
      "source": [
        "plt.figure(figsize=(8,5))\n",
        "\n",
        "plt.plot(pred_t2v2[:365], label='prediction')\n",
        "plt.plot(y_test2.ravel()[:365], label='true')\n",
        "plt.title('T2V plus LSTM'); plt.legend()"
      ],
      "metadata": {
        "id": "kbLzAiYkB8cU"
      },
      "execution_count": null,
      "outputs": []
    },
    {
      "cell_type": "code",
      "source": [
        "plt.figure(figsize=(8,5))\n",
        "\n",
        "plt.plot(pred_t2v3[:365], label='prediction')\n",
        "plt.plot(y_test3.ravel()[:365], label='true')\n",
        "plt.title('T2V plus LSTM'); plt.legend()"
      ],
      "metadata": {
        "id": "0K2GHNfBB8mN"
      },
      "execution_count": null,
      "outputs": []
    },
    {
      "cell_type": "code",
      "source": [
        "plt.figure(figsize=(8,5))\n",
        "\n",
        "plt.plot(pred_t2v4[:365], label='prediction')\n",
        "plt.plot(y_test4.ravel()[:365], label='true')\n",
        "plt.title('T2V plus LSTM'); plt.legend()"
      ],
      "metadata": {
        "id": "a6Zmy_o8hi6V"
      },
      "execution_count": null,
      "outputs": []
    },
    {
      "cell_type": "code",
      "source": [
        ""
      ],
      "metadata": {
        "id": "iFKHRMqphJ3M"
      },
      "execution_count": null,
      "outputs": []
    },
    {
      "cell_type": "markdown",
      "source": [
        "## 5. 제출 파일 생성"
      ],
      "metadata": {
        "id": "JbNSGPDNKrfo"
      }
    },
    {
      "cell_type": "code",
      "source": [
        "prediction1 = model1.predict(X_test1).ravel()\n",
        "prediction2 = model2.predict(X_test2).ravel()\n",
        "prediction3 = model3.predict(X_test3).ravel()\n",
        "prediction4 = model4.predict(X_test4).ravel()"
      ],
      "metadata": {
        "id": "tLZ76Uk9KB8i"
      },
      "execution_count": null,
      "outputs": []
    },
    {
      "cell_type": "code",
      "source": [
        "_submission_raw[pred_col[0]] = prediction1\n",
        "_submission_raw[pred_col[1]] = prediction2\n",
        "_submission_raw[pred_col[2]] = prediction3\n",
        "_submission_raw[pred_col[3]] = prediction4"
      ],
      "metadata": {
        "id": "wIIj-Nugh9-q"
      },
      "execution_count": null,
      "outputs": []
    },
    {
      "cell_type": "code",
      "source": [
        "_submission_raw.to_csv('/content/drive/MyDrive/dacon/water_level/submission_time2vec.csv')"
      ],
      "metadata": {
        "id": "-Ssv7JnkoKD3"
      },
      "execution_count": null,
      "outputs": []
    },
    {
      "cell_type": "code",
      "source": [
        "prediction1.shape"
      ],
      "metadata": {
        "colab": {
          "base_uri": "https://localhost:8080/"
        },
        "id": "IEfZDt3G1W2n",
        "outputId": "0e9ce4a7-40bb-40a3-a899-61a8f359a8fe"
      },
      "execution_count": null,
      "outputs": [
        {
          "output_type": "execute_result",
          "data": {
            "text/plain": [
              "(6912, 18)"
            ]
          },
          "metadata": {},
          "execution_count": 33
        }
      ]
    },
    {
      "cell_type": "code",
      "source": [
        "_submission_raw.shape"
      ],
      "metadata": {
        "colab": {
          "base_uri": "https://localhost:8080/"
        },
        "id": "tHgw8BmUovv-",
        "outputId": "0b5ee164-a66a-4315-81cb-a223350dc0cc"
      },
      "execution_count": null,
      "outputs": [
        {
          "output_type": "execute_result",
          "data": {
            "text/plain": [
              "(6912, 4)"
            ]
          },
          "metadata": {},
          "execution_count": 34
        }
      ]
    },
    {
      "cell_type": "code",
      "source": [
        "_submission_raw.isna().sum()"
      ],
      "metadata": {
        "colab": {
          "base_uri": "https://localhost:8080/"
        },
        "id": "nxOeMOR8nBEr",
        "outputId": "179fa665-a72b-47eb-c375-aef5e97604c7"
      },
      "execution_count": null,
      "outputs": [
        {
          "output_type": "execute_result",
          "data": {
            "text/plain": [
              "wl_1018662    0\n",
              "wl_1018680    0\n",
              "wl_1018683    0\n",
              "wl_1019630    0\n",
              "dtype: int64"
            ]
          },
          "metadata": {},
          "execution_count": 35
        }
      ]
    },
    {
      "cell_type": "code",
      "source": [
        "_submission_raw"
      ],
      "metadata": {
        "id": "TTsPsczATA9z",
        "colab": {
          "base_uri": "https://localhost:8080/",
          "height": 455
        },
        "outputId": "55c4126f-e791-48e3-a78c-2c68ff78e8ed"
      },
      "execution_count": null,
      "outputs": [
        {
          "output_type": "execute_result",
          "data": {
            "text/plain": [
              "                  wl_1018662  wl_1018680  wl_1018683  wl_1019630\n",
              "ymdhm                                                           \n",
              "2022-06-01 00:00  278.700012  274.860012      273.58  270.299988\n",
              "2022-06-01 00:10  278.700012  274.280012      273.76  269.299988\n",
              "2022-06-01 00:20  280.700012  270.770012      272.05  267.299988\n",
              "2022-06-01 00:30  283.700012  273.650012      273.12  264.299988\n",
              "2022-06-01 00:40  284.700012  272.720012      271.17  261.299988\n",
              "...                      ...         ...         ...         ...\n",
              "2022-07-18 23:10  287.700012  290.070012      287.47  303.299988\n",
              "2022-07-18 23:20  287.700012  294.850012      298.79  306.299988\n",
              "2022-07-18 23:30  286.700012  298.420012      300.54  308.299988\n",
              "2022-07-18 23:40  298.700012  303.150012      307.89  310.299988\n",
              "2022-07-18 23:50  308.700012  309.200012      312.23  312.299988\n",
              "\n",
              "[6912 rows x 4 columns]"
            ],
            "text/html": [
              "\n",
              "  <div id=\"df-e3fb8322-f8ed-4146-82f4-b91c1cba6fb7\">\n",
              "    <div class=\"colab-df-container\">\n",
              "      <div>\n",
              "<style scoped>\n",
              "    .dataframe tbody tr th:only-of-type {\n",
              "        vertical-align: middle;\n",
              "    }\n",
              "\n",
              "    .dataframe tbody tr th {\n",
              "        vertical-align: top;\n",
              "    }\n",
              "\n",
              "    .dataframe thead th {\n",
              "        text-align: right;\n",
              "    }\n",
              "</style>\n",
              "<table border=\"1\" class=\"dataframe\">\n",
              "  <thead>\n",
              "    <tr style=\"text-align: right;\">\n",
              "      <th></th>\n",
              "      <th>wl_1018662</th>\n",
              "      <th>wl_1018680</th>\n",
              "      <th>wl_1018683</th>\n",
              "      <th>wl_1019630</th>\n",
              "    </tr>\n",
              "    <tr>\n",
              "      <th>ymdhm</th>\n",
              "      <th></th>\n",
              "      <th></th>\n",
              "      <th></th>\n",
              "      <th></th>\n",
              "    </tr>\n",
              "  </thead>\n",
              "  <tbody>\n",
              "    <tr>\n",
              "      <th>2022-06-01 00:00</th>\n",
              "      <td>278.700012</td>\n",
              "      <td>274.860012</td>\n",
              "      <td>273.58</td>\n",
              "      <td>270.299988</td>\n",
              "    </tr>\n",
              "    <tr>\n",
              "      <th>2022-06-01 00:10</th>\n",
              "      <td>278.700012</td>\n",
              "      <td>274.280012</td>\n",
              "      <td>273.76</td>\n",
              "      <td>269.299988</td>\n",
              "    </tr>\n",
              "    <tr>\n",
              "      <th>2022-06-01 00:20</th>\n",
              "      <td>280.700012</td>\n",
              "      <td>270.770012</td>\n",
              "      <td>272.05</td>\n",
              "      <td>267.299988</td>\n",
              "    </tr>\n",
              "    <tr>\n",
              "      <th>2022-06-01 00:30</th>\n",
              "      <td>283.700012</td>\n",
              "      <td>273.650012</td>\n",
              "      <td>273.12</td>\n",
              "      <td>264.299988</td>\n",
              "    </tr>\n",
              "    <tr>\n",
              "      <th>2022-06-01 00:40</th>\n",
              "      <td>284.700012</td>\n",
              "      <td>272.720012</td>\n",
              "      <td>271.17</td>\n",
              "      <td>261.299988</td>\n",
              "    </tr>\n",
              "    <tr>\n",
              "      <th>...</th>\n",
              "      <td>...</td>\n",
              "      <td>...</td>\n",
              "      <td>...</td>\n",
              "      <td>...</td>\n",
              "    </tr>\n",
              "    <tr>\n",
              "      <th>2022-07-18 23:10</th>\n",
              "      <td>287.700012</td>\n",
              "      <td>290.070012</td>\n",
              "      <td>287.47</td>\n",
              "      <td>303.299988</td>\n",
              "    </tr>\n",
              "    <tr>\n",
              "      <th>2022-07-18 23:20</th>\n",
              "      <td>287.700012</td>\n",
              "      <td>294.850012</td>\n",
              "      <td>298.79</td>\n",
              "      <td>306.299988</td>\n",
              "    </tr>\n",
              "    <tr>\n",
              "      <th>2022-07-18 23:30</th>\n",
              "      <td>286.700012</td>\n",
              "      <td>298.420012</td>\n",
              "      <td>300.54</td>\n",
              "      <td>308.299988</td>\n",
              "    </tr>\n",
              "    <tr>\n",
              "      <th>2022-07-18 23:40</th>\n",
              "      <td>298.700012</td>\n",
              "      <td>303.150012</td>\n",
              "      <td>307.89</td>\n",
              "      <td>310.299988</td>\n",
              "    </tr>\n",
              "    <tr>\n",
              "      <th>2022-07-18 23:50</th>\n",
              "      <td>308.700012</td>\n",
              "      <td>309.200012</td>\n",
              "      <td>312.23</td>\n",
              "      <td>312.299988</td>\n",
              "    </tr>\n",
              "  </tbody>\n",
              "</table>\n",
              "<p>6912 rows × 4 columns</p>\n",
              "</div>\n",
              "      <button class=\"colab-df-convert\" onclick=\"convertToInteractive('df-e3fb8322-f8ed-4146-82f4-b91c1cba6fb7')\"\n",
              "              title=\"Convert this dataframe to an interactive table.\"\n",
              "              style=\"display:none;\">\n",
              "        \n",
              "  <svg xmlns=\"http://www.w3.org/2000/svg\" height=\"24px\"viewBox=\"0 0 24 24\"\n",
              "       width=\"24px\">\n",
              "    <path d=\"M0 0h24v24H0V0z\" fill=\"none\"/>\n",
              "    <path d=\"M18.56 5.44l.94 2.06.94-2.06 2.06-.94-2.06-.94-.94-2.06-.94 2.06-2.06.94zm-11 1L8.5 8.5l.94-2.06 2.06-.94-2.06-.94L8.5 2.5l-.94 2.06-2.06.94zm10 10l.94 2.06.94-2.06 2.06-.94-2.06-.94-.94-2.06-.94 2.06-2.06.94z\"/><path d=\"M17.41 7.96l-1.37-1.37c-.4-.4-.92-.59-1.43-.59-.52 0-1.04.2-1.43.59L10.3 9.45l-7.72 7.72c-.78.78-.78 2.05 0 2.83L4 21.41c.39.39.9.59 1.41.59.51 0 1.02-.2 1.41-.59l7.78-7.78 2.81-2.81c.8-.78.8-2.07 0-2.86zM5.41 20L4 18.59l7.72-7.72 1.47 1.35L5.41 20z\"/>\n",
              "  </svg>\n",
              "      </button>\n",
              "      \n",
              "  <style>\n",
              "    .colab-df-container {\n",
              "      display:flex;\n",
              "      flex-wrap:wrap;\n",
              "      gap: 12px;\n",
              "    }\n",
              "\n",
              "    .colab-df-convert {\n",
              "      background-color: #E8F0FE;\n",
              "      border: none;\n",
              "      border-radius: 50%;\n",
              "      cursor: pointer;\n",
              "      display: none;\n",
              "      fill: #1967D2;\n",
              "      height: 32px;\n",
              "      padding: 0 0 0 0;\n",
              "      width: 32px;\n",
              "    }\n",
              "\n",
              "    .colab-df-convert:hover {\n",
              "      background-color: #E2EBFA;\n",
              "      box-shadow: 0px 1px 2px rgba(60, 64, 67, 0.3), 0px 1px 3px 1px rgba(60, 64, 67, 0.15);\n",
              "      fill: #174EA6;\n",
              "    }\n",
              "\n",
              "    [theme=dark] .colab-df-convert {\n",
              "      background-color: #3B4455;\n",
              "      fill: #D2E3FC;\n",
              "    }\n",
              "\n",
              "    [theme=dark] .colab-df-convert:hover {\n",
              "      background-color: #434B5C;\n",
              "      box-shadow: 0px 1px 3px 1px rgba(0, 0, 0, 0.15);\n",
              "      filter: drop-shadow(0px 1px 2px rgba(0, 0, 0, 0.3));\n",
              "      fill: #FFFFFF;\n",
              "    }\n",
              "  </style>\n",
              "\n",
              "      <script>\n",
              "        const buttonEl =\n",
              "          document.querySelector('#df-e3fb8322-f8ed-4146-82f4-b91c1cba6fb7 button.colab-df-convert');\n",
              "        buttonEl.style.display =\n",
              "          google.colab.kernel.accessAllowed ? 'block' : 'none';\n",
              "\n",
              "        async function convertToInteractive(key) {\n",
              "          const element = document.querySelector('#df-e3fb8322-f8ed-4146-82f4-b91c1cba6fb7');\n",
              "          const dataTable =\n",
              "            await google.colab.kernel.invokeFunction('convertToInteractive',\n",
              "                                                     [key], {});\n",
              "          if (!dataTable) return;\n",
              "\n",
              "          const docLinkHtml = 'Like what you see? Visit the ' +\n",
              "            '<a target=\"_blank\" href=https://colab.research.google.com/notebooks/data_table.ipynb>data table notebook</a>'\n",
              "            + ' to learn more about interactive tables.';\n",
              "          element.innerHTML = '';\n",
              "          dataTable['output_type'] = 'display_data';\n",
              "          await google.colab.output.renderOutput(dataTable, element);\n",
              "          const docLink = document.createElement('div');\n",
              "          docLink.innerHTML = docLinkHtml;\n",
              "          element.appendChild(docLink);\n",
              "        }\n",
              "      </script>\n",
              "    </div>\n",
              "  </div>\n",
              "  "
            ]
          },
          "metadata": {},
          "execution_count": 36
        }
      ]
    },
    {
      "cell_type": "code",
      "source": [
        "# 리더보드 점수: 4.5210107544"
      ],
      "metadata": {
        "id": "nWnwg6TT1mi1"
      },
      "execution_count": null,
      "outputs": []
    }
  ]
}